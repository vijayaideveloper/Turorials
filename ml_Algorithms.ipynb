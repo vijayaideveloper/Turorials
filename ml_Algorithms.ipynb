{
  "nbformat": 4,
  "nbformat_minor": 0,
  "metadata": {
    "colab": {
      "provenance": [],
      "gpuType": "V28",
      "authorship_tag": "ABX9TyN5pC5qdWmegSCmt9+4azej",
      "include_colab_link": true
    },
    "kernelspec": {
      "name": "python3",
      "display_name": "Python 3"
    },
    "language_info": {
      "name": "python"
    },
    "accelerator": "TPU"
  },
  "cells": [
    {
      "cell_type": "markdown",
      "metadata": {
        "id": "view-in-github",
        "colab_type": "text"
      },
      "source": [
        "<a href=\"https://colab.research.google.com/github/vijayaideveloper/Turorials/blob/main/ml_Algorithms.ipynb\" target=\"_parent\"><img src=\"https://colab.research.google.com/assets/colab-badge.svg\" alt=\"Open In Colab\"/></a>"
      ]
    },
    {
      "cell_type": "markdown",
      "source": [
        "#🔹 1. Regression Algorithms"
      ],
      "metadata": {
        "id": "5I3D5ke4xdA2"
      }
    },
    {
      "cell_type": "markdown",
      "source": [
        "(a) Linear Regression"
      ],
      "metadata": {
        "id": "6LQHbWbTxlBK"
      }
    },
    {
      "cell_type": "code",
      "source": [
        "from sklearn.linear_model import LinearRegression\n",
        "from sklearn.metrics import mean_squared_error, r2_score\n",
        "\n",
        "X = [[1], [2], [3], [4]]\n",
        "y = [2, 4, 6, 8]\n",
        "\n",
        "model = LinearRegression()\n",
        "model.fit(X, y)\n",
        "\n",
        "y_pred = model.predict(X)\n",
        "print(\"Coefficients:\", model.coef_)\n",
        "print(\"Intercept:\", model.intercept_)\n",
        "print(\"MSE:\", mean_squared_error(y, y_pred))\n",
        "print(\"R²:\", r2_score(y, y_pred))\n"
      ],
      "metadata": {
        "colab": {
          "base_uri": "https://localhost:8080/"
        },
        "id": "lnL_38y1xoXU",
        "outputId": "fad6a477-97c6-4f4e-c750-6922558d221a"
      },
      "execution_count": 1,
      "outputs": [
        {
          "output_type": "stream",
          "name": "stdout",
          "text": [
            "Coefficients: [2.]\n",
            "Intercept: 0.0\n",
            "MSE: 0.0\n",
            "R²: 1.0\n"
          ]
        }
      ]
    },
    {
      "cell_type": "markdown",
      "source": [
        "\n",
        "\n",
        "1.  ✅ Errors: MSE, RMSE, MAE\n",
        "2.  ✅ Accuracy: R2 Score\n",
        "3.  ✅ Optimization: Ordinary Least Squares\n",
        "\n",
        "\n",
        "\n"
      ],
      "metadata": {
        "id": "ppPc2Q20xrOG"
      }
    },
    {
      "cell_type": "markdown",
      "source": [
        "(b) Ridge & Lasso Regression"
      ],
      "metadata": {
        "id": "Zv-L346Zx95F"
      }
    },
    {
      "cell_type": "code",
      "source": [
        "from sklearn.linear_model import Ridge, Lasso\n",
        "\n",
        "ridge = Ridge(alpha=1.0).fit(X, y)\n",
        "lasso = Lasso(alpha=0.1).fit(X, y)\n",
        "\n",
        "print(\"Ridge Coef:\", ridge.coef_)\n",
        "print(\"Lasso Coef:\", lasso.coef_)\n"
      ],
      "metadata": {
        "colab": {
          "base_uri": "https://localhost:8080/"
        },
        "id": "9y6L5zqDyA3s",
        "outputId": "09deb431-429f-43a2-c57b-dc0b9b9d98b4"
      },
      "execution_count": 2,
      "outputs": [
        {
          "output_type": "stream",
          "name": "stdout",
          "text": [
            "Ridge Coef: [1.66666667]\n",
            "Lasso Coef: [1.92]\n"
          ]
        }
      ]
    },
    {
      "cell_type": "markdown",
      "source": [
        "\n",
        "\n",
        "1.  ✅ Optimization: Penalized cost function\n",
        "2.  ✅ Error/Accuracy: Same as Linear Regression\n",
        "\n",
        "\n"
      ],
      "metadata": {
        "id": "sbu5HiYXyDpU"
      }
    },
    {
      "cell_type": "markdown",
      "source": [
        "#🔹 2. Classification Algorithms"
      ],
      "metadata": {
        "id": "AF3s34snyI7h"
      }
    },
    {
      "cell_type": "markdown",
      "source": [
        "(a) Logistic Regression"
      ],
      "metadata": {
        "id": "L89C0ipmyO5V"
      }
    },
    {
      "cell_type": "code",
      "source": [
        "from sklearn.linear_model import LogisticRegression\n",
        "from sklearn.metrics import accuracy_score, f1_score\n",
        "\n",
        "X = [[1], [2], [3], [4]]\n",
        "y = [0, 0, 1, 1]\n",
        "\n",
        "model = LogisticRegression()\n",
        "model.fit(X, y)\n",
        "\n",
        "y_pred = model.predict(X)\n",
        "print(\"Accuracy:\", accuracy_score(y, y_pred))\n",
        "print(\"F1 Score:\", f1_score(y, y_pred))\n"
      ],
      "metadata": {
        "colab": {
          "base_uri": "https://localhost:8080/"
        },
        "id": "rCrWCWBIyQnT",
        "outputId": "a240ac86-c782-460a-a437-01b9273ffc71"
      },
      "execution_count": 3,
      "outputs": [
        {
          "output_type": "stream",
          "name": "stdout",
          "text": [
            "Accuracy: 1.0\n",
            "F1 Score: 1.0\n"
          ]
        }
      ]
    },
    {
      "cell_type": "markdown",
      "source": [
        "\n",
        "\n",
        "1.   ✅ Errors: Log-loss\n",
        "2.   ✅ Accuracy: Accuracy, F1, ROC-AUC\n",
        "3.   ✅ Optimization: Gradient Descent (solvers = ‘liblinear’, ‘saga’)\n",
        "\n"
      ],
      "metadata": {
        "id": "qSidsxCbySCB"
      }
    },
    {
      "cell_type": "markdown",
      "source": [
        "(b) k-Nearest Neighbors (KNN)"
      ],
      "metadata": {
        "id": "VHD8WwQpybbI"
      }
    },
    {
      "cell_type": "code",
      "source": [
        "from sklearn.neighbors import KNeighborsClassifier\n",
        "\n",
        "model = KNeighborsClassifier(n_neighbors=3)\n",
        "model.fit(X, y)\n",
        "print(\"Prediction:\", model.predict([[3.5]]))\n"
      ],
      "metadata": {
        "colab": {
          "base_uri": "https://localhost:8080/"
        },
        "id": "1DV-9dksydSm",
        "outputId": "dcc761f3-3c63-48eb-bec7-0a21a31881fe"
      },
      "execution_count": 4,
      "outputs": [
        {
          "output_type": "stream",
          "name": "stdout",
          "text": [
            "Prediction: [1]\n"
          ]
        }
      ]
    },
    {
      "cell_type": "markdown",
      "source": [
        "1.  ✅ Errors: Misclassification rate\n",
        "2.  ✅ Accuracy: Accuracy, F1\n",
        "3.  ✅ Optimization: Hyperparameter tuning (k, distance metric)"
      ],
      "metadata": {
        "id": "q-x53vqMygV2"
      }
    },
    {
      "cell_type": "markdown",
      "source": [
        "(c) Decision Trees"
      ],
      "metadata": {
        "id": "aBHzNB0Ayk7S"
      }
    },
    {
      "cell_type": "code",
      "source": [
        "from sklearn.tree import DecisionTreeClassifier\n",
        "\n",
        "model = DecisionTreeClassifier(max_depth=3)\n",
        "model.fit(X, y)\n",
        "print(\"Prediction:\", model.predict([[3.5]]))\n"
      ],
      "metadata": {
        "colab": {
          "base_uri": "https://localhost:8080/"
        },
        "id": "YpHK3-G0ynwN",
        "outputId": "4b474403-474e-49ac-f901-2e8c9e391a97"
      },
      "execution_count": 5,
      "outputs": [
        {
          "output_type": "stream",
          "name": "stdout",
          "text": [
            "Prediction: [1]\n"
          ]
        }
      ]
    },
    {
      "cell_type": "markdown",
      "source": [
        "1.  ✅ Errors: Gini Impurity, Entropy\n",
        "2.  ✅ Accuracy: Accuracy, F1\n",
        "3.  ✅ Optimization: Tree pruning (max_depth, min_samples_split)"
      ],
      "metadata": {
        "id": "5KAZWzI6yo7t"
      }
    },
    {
      "cell_type": "markdown",
      "source": [
        "(d) Random Forest"
      ],
      "metadata": {
        "id": "fjWgDqQOytb3"
      }
    },
    {
      "cell_type": "code",
      "source": [
        "from sklearn.ensemble import RandomForestClassifier\n",
        "\n",
        "model = RandomForestClassifier(n_estimators=100)\n",
        "model.fit(X, y)\n",
        "print(\"Prediction:\", model.predict([[3.5]]))\n"
      ],
      "metadata": {
        "colab": {
          "base_uri": "https://localhost:8080/"
        },
        "id": "PB1Pr5BWyv_r",
        "outputId": "ba399e8f-8b41-46ea-a9d0-5671e52a8751"
      },
      "execution_count": 6,
      "outputs": [
        {
          "output_type": "stream",
          "name": "stdout",
          "text": [
            "Prediction: [1]\n"
          ]
        }
      ]
    },
    {
      "cell_type": "markdown",
      "source": [
        "1.  ✅ Errors: Out-of-bag error\n",
        "2.  ✅ Accuracy: Accuracy, F1\n",
        "3.  ✅ Optimization: Number of trees, max_features"
      ],
      "metadata": {
        "id": "7c-fMMj2yyad"
      }
    },
    {
      "cell_type": "markdown",
      "source": [
        "(e) Support Vector Machines (SVM)"
      ],
      "metadata": {
        "id": "Mw4PF-Fby3gK"
      }
    },
    {
      "cell_type": "code",
      "source": [
        "from sklearn.svm import SVC\n",
        "\n",
        "model = SVC(kernel='linear')\n",
        "model.fit(X, y)\n",
        "print(\"Prediction:\", model.predict([[3.5]]))\n"
      ],
      "metadata": {
        "colab": {
          "base_uri": "https://localhost:8080/"
        },
        "id": "-dcIoAc5y5jK",
        "outputId": "571976e7-4386-4ce4-dcc0-1ba7a6350a1f"
      },
      "execution_count": 7,
      "outputs": [
        {
          "output_type": "stream",
          "name": "stdout",
          "text": [
            "Prediction: [1]\n"
          ]
        }
      ]
    },
    {
      "cell_type": "markdown",
      "source": [
        "1.  ✅ Errors: Hinge loss\n",
        "2.  ✅ Accuracy: Accuracy, F1\n",
        "3.  ✅ Optimization: Maximize margin, tune C & kernel"
      ],
      "metadata": {
        "id": "9sOAF1UAy6JI"
      }
    },
    {
      "cell_type": "markdown",
      "source": [
        "# 🔹 3. Unsupervised Learning"
      ],
      "metadata": {
        "id": "rqnmGreCzEi5"
      }
    },
    {
      "cell_type": "markdown",
      "source": [
        "(a) k-Means Clustering"
      ],
      "metadata": {
        "id": "I5WNNWYkzI3B"
      }
    },
    {
      "cell_type": "code",
      "source": [
        "from sklearn.cluster import KMeans\n",
        "\n",
        "X = [[1], [2], [10], [12]]\n",
        "model = KMeans(n_clusters=2, random_state=0).fit(X)\n",
        "print(\"Cluster Centers:\", model.cluster_centers_)\n",
        "print(\"Labels:\", model.labels_)\n"
      ],
      "metadata": {
        "colab": {
          "base_uri": "https://localhost:8080/"
        },
        "id": "NzPv_QNnzKpm",
        "outputId": "714143e3-8873-412b-ac90-687f372544d5"
      },
      "execution_count": 8,
      "outputs": [
        {
          "output_type": "stream",
          "name": "stdout",
          "text": [
            "Cluster Centers: [[11. ]\n",
            " [ 1.5]]\n",
            "Labels: [1 1 0 0]\n"
          ]
        }
      ]
    },
    {
      "cell_type": "markdown",
      "source": [
        "1.  ✅ Errors: Inertia (within-cluster sum of squares)\n",
        "2.  ✅ Accuracy: Silhouette Score\n",
        "3.  ✅ Optimization: Lloyd’s algorithm (iterative)"
      ],
      "metadata": {
        "id": "AOlCPnBzzMCd"
      }
    },
    {
      "cell_type": "markdown",
      "source": [
        "(b) Hierarchical Clustering (Agglomerative)"
      ],
      "metadata": {
        "id": "R9GCP1-PzRoi"
      }
    },
    {
      "cell_type": "code",
      "source": [
        "from sklearn.cluster import AgglomerativeClustering\n",
        "\n",
        "model = AgglomerativeClustering(n_clusters=2)\n",
        "labels = model.fit_predict(X)\n",
        "print(\"Labels:\", labels)\n"
      ],
      "metadata": {
        "colab": {
          "base_uri": "https://localhost:8080/"
        },
        "id": "83oVYvfRzSle",
        "outputId": "f5220fe7-3fcb-479e-e069-fc0194d1449d"
      },
      "execution_count": 9,
      "outputs": [
        {
          "output_type": "stream",
          "name": "stdout",
          "text": [
            "Labels: [1 1 0 0]\n"
          ]
        }
      ]
    },
    {
      "cell_type": "markdown",
      "source": [
        "1.  ✅ Errors: Distance-based linkage\n",
        "2.  ✅ Accuracy: Silhouette score\n",
        "3.  ✅ Optimization: Linkage method (ward, complete, average)"
      ],
      "metadata": {
        "id": "ZR9cXQZRzb4T"
      }
    },
    {
      "cell_type": "markdown",
      "source": [
        "(c) Principal Component Analysis (PCA)"
      ],
      "metadata": {
        "id": "Okjtpy7BzjzB"
      }
    },
    {
      "cell_type": "code",
      "source": [
        "from sklearn.decomposition import PCA\n",
        "\n",
        "X = [[1, 2], [3, 4], [5, 6]]\n",
        "pca = PCA(n_components=1)\n",
        "X_reduced = pca.fit_transform(X)\n",
        "print(\"Reduced:\", X_reduced)\n"
      ],
      "metadata": {
        "colab": {
          "base_uri": "https://localhost:8080/"
        },
        "id": "KgNzaE4Wzndz",
        "outputId": "f3d0ebf2-2758-4501-b0d3-bf09cf249867"
      },
      "execution_count": 10,
      "outputs": [
        {
          "output_type": "stream",
          "name": "stdout",
          "text": [
            "Reduced: [[-2.82842712]\n",
            " [ 0.        ]\n",
            " [ 2.82842712]]\n"
          ]
        }
      ]
    },
    {
      "cell_type": "markdown",
      "source": [
        "1.  ✅ Errors: Reconstruction error\n",
        "2.  ✅ Accuracy: Explained variance ratio\n",
        "3.  ✅ Optimization: Eigen decomposition"
      ],
      "metadata": {
        "id": "Ie6fUR75zqN8"
      }
    },
    {
      "cell_type": "markdown",
      "source": [
        "#🔹 Summary Table"
      ],
      "metadata": {
        "id": "yftcmoyWzu9h"
      }
    },
    {
      "cell_type": "markdown",
      "source": [
        "| Algorithm           | Task           | Error Metric         | Accuracy Metric       | Optimization        |\n",
        "| ------------------- | -------------- | -------------------- | --------------------- | ------------------- |\n",
        "| Linear Regression   | Regression     | MSE, RMSE, MAE       | R²                    | OLS                 |\n",
        "| Ridge/Lasso         | Regression     | MSE, RMSE            | R²                    | Regularized OLS     |\n",
        "| Logistic Regression | Classification | Log-loss             | Accuracy, F1, ROC-AUC | Gradient Descent    |\n",
        "| KNN                 | Classification | Misclassification    | Accuracy, F1          | Distance metric, k  |\n",
        "| Decision Tree       | Classification | Gini, Entropy        | Accuracy              | Tree pruning        |\n",
        "| Random Forest       | Classification | OOB error            | Accuracy              | Bagging             |\n",
        "| SVM                 | Classification | Hinge loss           | Accuracy              | Max margin          |\n",
        "| K-Means             | Clustering     | Inertia              | Silhouette            | Lloyd’s algorithm   |\n",
        "| Hierarchical        | Clustering     | Distance linkage     | Silhouette            | Linkage strategy    |\n",
        "| PCA                 | Dim. Reduction | Reconstruction error | Explained variance    | Eigen decomposition |\n"
      ],
      "metadata": {
        "id": "XDkyN9txzz3C"
      }
    }
  ]
}